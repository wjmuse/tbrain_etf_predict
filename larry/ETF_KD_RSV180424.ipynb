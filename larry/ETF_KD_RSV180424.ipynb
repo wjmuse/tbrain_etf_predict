{
 "cells": [
  {
   "cell_type": "markdown",
   "metadata": {},
   "source": [
    "## ETF Compete:  \n",
    "## Feature engineering: KD/RSV \n",
    "### Date: 18424_L"
   ]
  },
  {
   "cell_type": "markdown",
   "metadata": {},
   "source": [
    "# 使用變數\n",
    "\n",
    "KD 公式\n",
    "$$$$\n",
    "# $RSV = \\frac{(price_{now} - price_{min})}{(price_{max} - price_{min})}$\n",
    "# $K_{new} = w * K_{old} + (1-w) * RSV$\n",
    "# $D_{new} = w*D_{old} + (1-w) * K_{new}$\n",
    "\n",
    "\n",
    "### variable: \n",
    "### df: dataframe \n",
    "### n: n days window (normally, 9, but I used to use 5) \n",
    "### w: 加權比重 (一般公式 選2/3, ..我傾向用5/4)\n",
    "### price_now = 現在 （今日） 價格 \n",
    "### price_max= n days 最高價\n",
    "### price_min = n days 最低價\n",
    "\n",
    "###  return df \n",
    "### columns =  ['code', 'date', 'name', 'open', 'high', 'low', 'close', 'volume','K_old', 'K_new', 'D_old', 'D_new', 'K_signal', 'n_max', 'n_min', 'nd_max-min', 'close-n_min', 'RSV', 'K-RSV', 'K-D']\n",
    "\n"
   ]
  },
  {
   "cell_type": "code",
   "execution_count": 1,
   "metadata": {
    "collapsed": true
   },
   "outputs": [],
   "source": [
    "import numpy as np\n",
    "import pandas as pd\n",
    "from collections import OrderedDict\n",
    "from time import time"
   ]
  },
  {
   "cell_type": "code",
   "execution_count": 2,
   "metadata": {},
   "outputs": [
    {
     "data": {
      "text/html": [
       "<div>\n",
       "<style>\n",
       "    .dataframe thead tr:only-child th {\n",
       "        text-align: right;\n",
       "    }\n",
       "\n",
       "    .dataframe thead th {\n",
       "        text-align: left;\n",
       "    }\n",
       "\n",
       "    .dataframe tbody tr th {\n",
       "        vertical-align: top;\n",
       "    }\n",
       "</style>\n",
       "<table border=\"1\" class=\"dataframe\">\n",
       "  <thead>\n",
       "    <tr style=\"text-align: right;\">\n",
       "      <th></th>\n",
       "      <th>code</th>\n",
       "      <th>date</th>\n",
       "      <th>name</th>\n",
       "      <th>open</th>\n",
       "      <th>high</th>\n",
       "      <th>low</th>\n",
       "      <th>close</th>\n",
       "      <th>volume</th>\n",
       "    </tr>\n",
       "  </thead>\n",
       "  <tbody>\n",
       "    <tr>\n",
       "      <th>0</th>\n",
       "      <td>50</td>\n",
       "      <td>20130102</td>\n",
       "      <td>元大台灣50</td>\n",
       "      <td>54.00</td>\n",
       "      <td>54.65</td>\n",
       "      <td>53.90</td>\n",
       "      <td>54.40</td>\n",
       "      <td>16487</td>\n",
       "    </tr>\n",
       "    <tr>\n",
       "      <th>1</th>\n",
       "      <td>50</td>\n",
       "      <td>20130103</td>\n",
       "      <td>元大台灣50</td>\n",
       "      <td>54.90</td>\n",
       "      <td>55.05</td>\n",
       "      <td>54.65</td>\n",
       "      <td>54.85</td>\n",
       "      <td>29020</td>\n",
       "    </tr>\n",
       "    <tr>\n",
       "      <th>2</th>\n",
       "      <td>50</td>\n",
       "      <td>20130104</td>\n",
       "      <td>元大台灣50</td>\n",
       "      <td>54.85</td>\n",
       "      <td>54.85</td>\n",
       "      <td>54.40</td>\n",
       "      <td>54.50</td>\n",
       "      <td>9837</td>\n",
       "    </tr>\n",
       "    <tr>\n",
       "      <th>3</th>\n",
       "      <td>50</td>\n",
       "      <td>20130107</td>\n",
       "      <td>元大台灣50</td>\n",
       "      <td>54.55</td>\n",
       "      <td>54.55</td>\n",
       "      <td>53.90</td>\n",
       "      <td>54.25</td>\n",
       "      <td>8910</td>\n",
       "    </tr>\n",
       "    <tr>\n",
       "      <th>4</th>\n",
       "      <td>50</td>\n",
       "      <td>20130108</td>\n",
       "      <td>元大台灣50</td>\n",
       "      <td>54.00</td>\n",
       "      <td>54.20</td>\n",
       "      <td>53.65</td>\n",
       "      <td>53.90</td>\n",
       "      <td>12507</td>\n",
       "    </tr>\n",
       "  </tbody>\n",
       "</table>\n",
       "</div>"
      ],
      "text/plain": [
       "   code      date    name   open   high    low  close  volume\n",
       "0    50  20130102  元大台灣50  54.00  54.65  53.90  54.40   16487\n",
       "1    50  20130103  元大台灣50  54.90  55.05  54.65  54.85   29020\n",
       "2    50  20130104  元大台灣50  54.85  54.85  54.40  54.50    9837\n",
       "3    50  20130107  元大台灣50  54.55  54.55  53.90  54.25    8910\n",
       "4    50  20130108  元大台灣50  54.00  54.20  53.65  53.90   12507"
      ]
     },
     "execution_count": 2,
     "metadata": {},
     "output_type": "execute_result"
    }
   ],
   "source": [
    "# read in csv, change column names\n",
    "etf = pd.read_csv('/Users/LarryGuo/Desktop/nano_degree/Capstone_Talk/ETF_compete/twetf_utf8/tetfp.csv')\n",
    "col_dtypes = OrderedDict(code=str, date=str, name=str, open=float, high=float, low=float, close=float, volume=int)\n",
    "\n",
    "etf.columns=col_dtypes.keys()\n",
    "\n",
    "etf.head()"
   ]
  },
  {
   "cell_type": "code",
   "execution_count": 3,
   "metadata": {},
   "outputs": [
    {
     "data": {
      "text/html": [
       "<div>\n",
       "<style>\n",
       "    .dataframe thead tr:only-child th {\n",
       "        text-align: right;\n",
       "    }\n",
       "\n",
       "    .dataframe thead th {\n",
       "        text-align: left;\n",
       "    }\n",
       "\n",
       "    .dataframe tbody tr th {\n",
       "        vertical-align: top;\n",
       "    }\n",
       "</style>\n",
       "<table border=\"1\" class=\"dataframe\">\n",
       "  <thead>\n",
       "    <tr style=\"text-align: right;\">\n",
       "      <th></th>\n",
       "      <th>code</th>\n",
       "      <th>date</th>\n",
       "      <th>name</th>\n",
       "      <th>open</th>\n",
       "      <th>high</th>\n",
       "      <th>low</th>\n",
       "      <th>close</th>\n",
       "      <th>volume</th>\n",
       "    </tr>\n",
       "  </thead>\n",
       "  <tbody>\n",
       "    <tr>\n",
       "      <th>1281</th>\n",
       "      <td>50</td>\n",
       "      <td>20180327</td>\n",
       "      <td>元大台灣50</td>\n",
       "      <td>83.00</td>\n",
       "      <td>83.40</td>\n",
       "      <td>82.95</td>\n",
       "      <td>83.40</td>\n",
       "      <td>3277</td>\n",
       "    </tr>\n",
       "    <tr>\n",
       "      <th>1282</th>\n",
       "      <td>50</td>\n",
       "      <td>20180328</td>\n",
       "      <td>元大台灣50</td>\n",
       "      <td>82.90</td>\n",
       "      <td>82.90</td>\n",
       "      <td>82.20</td>\n",
       "      <td>82.25</td>\n",
       "      <td>4161</td>\n",
       "    </tr>\n",
       "    <tr>\n",
       "      <th>1283</th>\n",
       "      <td>50</td>\n",
       "      <td>20180329</td>\n",
       "      <td>元大台灣50</td>\n",
       "      <td>82.25</td>\n",
       "      <td>82.35</td>\n",
       "      <td>81.80</td>\n",
       "      <td>82.10</td>\n",
       "      <td>4099</td>\n",
       "    </tr>\n",
       "    <tr>\n",
       "      <th>1284</th>\n",
       "      <td>50</td>\n",
       "      <td>20180330</td>\n",
       "      <td>元大台灣50</td>\n",
       "      <td>82.65</td>\n",
       "      <td>83.05</td>\n",
       "      <td>82.65</td>\n",
       "      <td>82.85</td>\n",
       "      <td>4994</td>\n",
       "    </tr>\n",
       "    <tr>\n",
       "      <th>1285</th>\n",
       "      <td>50</td>\n",
       "      <td>20180331</td>\n",
       "      <td>元大台灣50</td>\n",
       "      <td>82.85</td>\n",
       "      <td>83.05</td>\n",
       "      <td>82.75</td>\n",
       "      <td>82.95</td>\n",
       "      <td>878</td>\n",
       "    </tr>\n",
       "  </tbody>\n",
       "</table>\n",
       "</div>"
      ],
      "text/plain": [
       "      code      date    name   open   high    low  close  volume\n",
       "1281    50  20180327  元大台灣50  83.00  83.40  82.95  83.40    3277\n",
       "1282    50  20180328  元大台灣50  82.90  82.90  82.20  82.25    4161\n",
       "1283    50  20180329  元大台灣50  82.25  82.35  81.80  82.10    4099\n",
       "1284    50  20180330  元大台灣50  82.65  83.05  82.65  82.85    4994\n",
       "1285    50  20180331  元大台灣50  82.85  83.05  82.75  82.95     878"
      ]
     },
     "execution_count": 3,
     "metadata": {},
     "output_type": "execute_result"
    }
   ],
   "source": [
    "\n",
    "etf= etf[:1286] # select 台灣50 \n",
    "etf.tail()"
   ]
  },
  {
   "cell_type": "code",
   "execution_count": 4,
   "metadata": {},
   "outputs": [
    {
     "data": {
      "text/plain": [
       "Index(['code', 'date', 'name', 'open', 'high', 'low', 'close', 'volume'], dtype='object')"
      ]
     },
     "execution_count": 4,
     "metadata": {},
     "output_type": "execute_result"
    }
   ],
   "source": [
    "etf.columns"
   ]
  },
  {
   "cell_type": "code",
   "execution_count": 5,
   "metadata": {
    "collapsed": true
   },
   "outputs": [],
   "source": [
    "# calculate KD_RSV\n",
    "\n",
    "def KD_RSV(df,n,w, high = 'high', low='low'):\n",
    "    start_time=time()\n",
    "    \n",
    "    # create new column and assign initial value \n",
    "    # K_signal = 1 if K_new > K_old\n",
    "    \n",
    "    df['K_old'] = 0.5\n",
    "    df['K_new'] = 0\n",
    "    df['D_old'] = 0.5\n",
    "    df['D_new'] = 0\n",
    "    df['K_signal'] =1\n",
    "    \n",
    "    df['n_max'] = df[high].rolling(window=5).max()\n",
    "    df['n_min'] = df[low].rolling(window=5).min()\n",
    "    \n",
    "\n",
    "    df['nd_max-min'] = df['n_max'] - df['n_min']\n",
    "    df['close-n_min'] = df[\"close\"] - df['n_min']\n",
    "    df['RSV'] = df['close-n_min']/(df['nd_max-min']*1.0)\n",
    "    \n",
    "    # loop from n-1, cus rolling.max() results to nan at first n-1 value\n",
    "\n",
    "    \n",
    "    for j in range (n-1,len(df)-1):\n",
    "    \n",
    "        #print ('j=', j)\n",
    "        df['K_new'].iloc[j] = w*df['K_old'].iloc[j] + (1-w)*df['RSV'].iloc[j]  # calculate K_new\n",
    "        df['K_old'].iloc[j+1] = df['K_new'].iloc[j]  # replace next day K_old with toda's  K_new value\n",
    "        df['D_new'].iloc[j] = w*df['D_old'].iloc[j] + (1-w)*df['K_new'].iloc[j]  # calculate D_new\n",
    "        df['D_old'].iloc[j+1] = df['D_new'].iloc[j] # replace next day's D_old with today's D_new\n",
    "        if df['K_new'].iloc[j] < df['K_old'].iloc[j]:\n",
    "            df['K_signal'].iloc[j] = -1\n",
    "        #print ('j=', j)\n",
    "        #print (df[['K_new','K_old','RSV','K_signal']].iloc[j:j+2])\n",
    "        #print ('\\n\\n')\n",
    "    \n",
    "    df['K-RSV']  = df['K_new'] - df['RSV']\n",
    "    df['K-D'] = df['K_new'] - df['D_new']\n",
    "    \n",
    "    #df_return = df[['RSV','K_new','D_new','K-RSV','K-D']]\n",
    "    end_time = time()\n",
    "    \n",
    "    print ('needed_time = ', end_time - start_time)\n",
    "    \n",
    "    return df\n",
    " \n",
    "   "
   ]
  },
  {
   "cell_type": "code",
   "execution_count": 6,
   "metadata": {},
   "outputs": [
    {
     "name": "stderr",
     "output_type": "stream",
     "text": [
      "/Users/LarryGuo/miniconda3/lib/python3.6/site-packages/pandas/core/indexing.py:179: SettingWithCopyWarning: \n",
      "A value is trying to be set on a copy of a slice from a DataFrame\n",
      "\n",
      "See the caveats in the documentation: http://pandas.pydata.org/pandas-docs/stable/indexing.html#indexing-view-versus-copy\n",
      "  self._setitem_with_indexer(indexer, value)\n"
     ]
    },
    {
     "name": "stdout",
     "output_type": "stream",
     "text": [
      "needed_time =  154.22963500022888\n"
     ]
    }
   ],
   "source": [
    "df= KD_RSV(etf,5,0.8)"
   ]
  },
  {
   "cell_type": "code",
   "execution_count": 7,
   "metadata": {},
   "outputs": [
    {
     "data": {
      "text/plain": [
       "Index(['code', 'date', 'name', 'open', 'high', 'low', 'close', 'volume',\n",
       "       'K_old', 'K_new', 'D_old', 'D_new', 'K_signal', 'n_max', 'n_min',\n",
       "       'nd_max-min', 'close-n_min', 'RSV', 'K-RSV', 'K-D'],\n",
       "      dtype='object')"
      ]
     },
     "execution_count": 7,
     "metadata": {},
     "output_type": "execute_result"
    }
   ],
   "source": [
    "df.columns"
   ]
  },
  {
   "cell_type": "code",
   "execution_count": null,
   "metadata": {
    "collapsed": true
   },
   "outputs": [],
   "source": []
  }
 ],
 "metadata": {
  "kernelspec": {
   "display_name": "Python 3",
   "language": "python",
   "name": "python3"
  },
  "language_info": {
   "codemirror_mode": {
    "name": "ipython",
    "version": 3
   },
   "file_extension": ".py",
   "mimetype": "text/x-python",
   "name": "python",
   "nbconvert_exporter": "python",
   "pygments_lexer": "ipython3",
   "version": "3.6.3"
  }
 },
 "nbformat": 4,
 "nbformat_minor": 2
}

{
 "cells": [
  {
   "cell_type": "markdown",
   "metadata": {},
   "source": [
    "##  Inspired by Chang\n",
    "## ETF featuress, using atr_std= 1.5* ATR - 2.0 std to see whether it is in a trend folloiwng or mean reversion period\n",
    "#\n",
    "### a. 如果這值很大，代表現在是盤整，可以等第一根突破去追趨勢.\n",
    "### b. 如果盤整越久，突破後成為趨勢的機率越高\n",
    "\n",
    "##\n",
    "##\n",
    "\n",
    "\n",
    "### a.如果今天股價跟昨天相比沒有劇烈漲跌，那麼今天的波動範圍就是今日最高價減去今日最低價；\n",
    "##\n",
    "\n",
    "### b.如果今天大盤開盤是跳空上漲，而且這個空沒有被回補，那麼如果還是以今高減今低當作今天價格的波動幅度，\n",
    "### 那顯然就遺漏了跳空上漲的部份，所以要將那部份加回來，所以今天TR就是今日最高價減去昨日收盤價；取絕對值\n",
    "##\n",
    "##\n",
    "### c.如果今天大盤開盤是跳空下跌，而且這個空沒有被回補，那麼如果還是以今高減今低當作今天價格的波動幅度，\n",
    "### 那顯然就遺漏了跳空下跌的部份，所以要將那部份加回來，所以今天TR就是今日最低價減去昨日收盤價的取絕對值\n",
    "##\n",
    "##\n",
    "### calculate True Range (TR)\n",
    "### (definition TR: max value of (high-low, abs(high-prev_close), abs(low-prev_close))\n",
    "### 3. TRMA = n_days rolling average of TR (in here, n_days =20)\n",
    "\n",
    "### 4. ATR = smooth mean(KD like) of TRMA : ATR(t)  = 2/3*ATR(t-1) + 1/3 * (TRMA(t));  ATR(0) = TRMA(0)\n",
    "\n",
    "### 5. std_20 = rolling standadrd deviation of closing price\n",
    "### 6. chang_idx: 1.5*ATR - 2* std_20"
   ]
  },
  {
   "cell_type": "code",
   "execution_count": 1,
   "metadata": {
    "collapsed": true
   },
   "outputs": [],
   "source": [
    "# copy from ryan's tech.py \n",
    "def _smoothing(seq, w, initial, name=None):\n",
    "    \"\"\"Smoothing calculation, such as k-index, d-index and ema.\n",
    "    \"\"\"\n",
    "    y = [initial] * len(seq)\n",
    "    wb = 1 - w\n",
    "    for i, v in enumerate(seq[1:], 1):\n",
    "        y[i] = w * v + wb * y[i - 1]\n",
    "    out = pd.Series(y)\n",
    "    if name:\n",
    "        out.name = name\n",
    "    return out\n"
   ]
  },
  {
   "cell_type": "code",
   "execution_count": 2,
   "metadata": {
    "collapsed": true
   },
   "outputs": [],
   "source": [
    "import numpy as np\n",
    "import pandas as pd\n",
    "from datetime import datetime\n",
    "\n",
    "\n",
    "def _atr_std (price, high=None, low=None, close=None, w=0.33,n_days=20):\n",
    "    \"\"\"Calculate the Raw Stochastic Value.\n",
    "    TODO:\n",
    "\n",
    "\n",
    "    Params:\n",
    "        price: type: pd.Series, close price\n",
    "        high: type: pd.Series, high of the day\n",
    "        low: type: pd.Series, low of the day\n",
    "        n_days: day period for calculation, type: int\n",
    "\n",
    "    Return: ATR, std_20, chang_idx\n",
    "    \"\"\"\n",
    "\n",
    "    previous = price.shift(1).fillna(price[0])  # previous day close, fillna as first day\n",
    "    tr = pd.concat([high - low, (high - previous).abs(), (low-previous).abs()], axis=1).max(axis=1) # True Range, defined as above\n",
    "    trma =  tr.rolling(n_days).mean().fillna(tr[:n_days].mean())  # rolling tr, fillna with first value of trma\n",
    "    std_20 =price.rolling(n_days).std().fillna(price[:n_days].std())  # rolling stddev20, fill nan with first value of std_20\n",
    "    std_20.name = 'std_20'\n",
    "    atr = _smoothing(trma, w=0.33,initial=trma[0], name='atr')\n",
    "    chang_idx = 1.5*atr - 2.0*std_20\n",
    "    chang_idx.name = 'atr_std20'\n",
    "    \n",
    "    result = pd.concat([chang_idx, atr, std_20], axis=1)\n",
    "\n",
    "    return chang_idx, atr, std_20\n",
    "    #return result\n",
    "\n"
   ]
  },
  {
   "cell_type": "markdown",
   "metadata": {},
   "source": [
    "## toy example "
   ]
  },
  {
   "cell_type": "code",
   "execution_count": 3,
   "metadata": {},
   "outputs": [],
   "source": [
    "\n",
    "test_dict={'A':[1,1,3,2,6,2,4],\n",
    "           'B': [2,4,5,2,7,3,1],\n",
    "            'C':[3,5,6,2,1,4,5],\n",
    "            'D':[5,1,4,3,2,1,3]}\n",
    "test_df = pd.DataFrame(test_dict)"
   ]
  },
  {
   "cell_type": "code",
   "execution_count": 4,
   "metadata": {},
   "outputs": [
    {
     "data": {
      "text/html": [
       "<div>\n",
       "<style>\n",
       "    .dataframe thead tr:only-child th {\n",
       "        text-align: right;\n",
       "    }\n",
       "\n",
       "    .dataframe thead th {\n",
       "        text-align: left;\n",
       "    }\n",
       "\n",
       "    .dataframe tbody tr th {\n",
       "        vertical-align: top;\n",
       "    }\n",
       "</style>\n",
       "<table border=\"1\" class=\"dataframe\">\n",
       "  <thead>\n",
       "    <tr style=\"text-align: right;\">\n",
       "      <th></th>\n",
       "      <th>atr_std20</th>\n",
       "      <th>atr</th>\n",
       "      <th>std_20</th>\n",
       "    </tr>\n",
       "  </thead>\n",
       "  <tbody>\n",
       "    <tr>\n",
       "      <th>0</th>\n",
       "      <td>3.190599</td>\n",
       "      <td>3.666667</td>\n",
       "      <td>1.154701</td>\n",
       "    </tr>\n",
       "    <tr>\n",
       "      <th>1</th>\n",
       "      <td>3.190599</td>\n",
       "      <td>3.666667</td>\n",
       "      <td>1.154701</td>\n",
       "    </tr>\n",
       "    <tr>\n",
       "      <th>2</th>\n",
       "      <td>3.190599</td>\n",
       "      <td>3.666667</td>\n",
       "      <td>1.154701</td>\n",
       "    </tr>\n",
       "    <tr>\n",
       "      <th>3</th>\n",
       "      <td>3.335000</td>\n",
       "      <td>3.556667</td>\n",
       "      <td>1.000000</td>\n",
       "    </tr>\n",
       "    <tr>\n",
       "      <th>4</th>\n",
       "      <td>1.391118</td>\n",
       "      <td>3.702967</td>\n",
       "      <td>2.081666</td>\n",
       "    </tr>\n",
       "    <tr>\n",
       "      <th>5</th>\n",
       "      <td>0.752679</td>\n",
       "      <td>3.580988</td>\n",
       "      <td>2.309401</td>\n",
       "    </tr>\n",
       "    <tr>\n",
       "      <th>6</th>\n",
       "      <td>1.578893</td>\n",
       "      <td>3.719262</td>\n",
       "      <td>2.000000</td>\n",
       "    </tr>\n",
       "  </tbody>\n",
       "</table>\n",
       "</div>"
      ],
      "text/plain": [
       "   atr_std20       atr    std_20\n",
       "0   3.190599  3.666667  1.154701\n",
       "1   3.190599  3.666667  1.154701\n",
       "2   3.190599  3.666667  1.154701\n",
       "3   3.335000  3.556667  1.000000\n",
       "4   1.391118  3.702967  2.081666\n",
       "5   0.752679  3.580988  2.309401\n",
       "6   1.578893  3.719262  2.000000"
      ]
     },
     "execution_count": 4,
     "metadata": {},
     "output_type": "execute_result"
    }
   ],
   "source": [
    "result = _atr_std(test_df['A'], high=test_df['B'], low= test_df['C'], n_days=3)\n",
    "result = pd.concat(result, axis=1)\n",
    "result"
   ]
  },
  {
   "cell_type": "code",
   "execution_count": null,
   "metadata": {
    "collapsed": true
   },
   "outputs": [],
   "source": []
  },
  {
   "cell_type": "code",
   "execution_count": null,
   "metadata": {
    "collapsed": true
   },
   "outputs": [],
   "source": []
  },
  {
   "cell_type": "code",
   "execution_count": null,
   "metadata": {
    "collapsed": true
   },
   "outputs": [],
   "source": []
  }
 ],
 "metadata": {
  "kernelspec": {
   "display_name": "Python 3",
   "language": "python",
   "name": "python3"
  },
  "language_info": {
   "codemirror_mode": {
    "name": "ipython",
    "version": 3
   },
   "file_extension": ".py",
   "mimetype": "text/x-python",
   "name": "python",
   "nbconvert_exporter": "python",
   "pygments_lexer": "ipython3",
   "version": "3.6.3"
  }
 },
 "nbformat": 4,
 "nbformat_minor": 2
}

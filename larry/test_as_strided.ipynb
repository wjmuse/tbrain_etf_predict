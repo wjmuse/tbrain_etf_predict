{
 "cells": [
  {
   "cell_type": "code",
   "execution_count": 1,
   "metadata": {},
   "outputs": [],
   "source": [
    "import numpy as np\n",
    "import pandas as pd\n",
    "\n",
    "\n",
    "from prepare_data import *"
   ]
  },
  {
   "cell_type": "code",
   "execution_count": 2,
   "metadata": {},
   "outputs": [
    {
     "name": "stdout",
     "output_type": "stream",
     "text": [
      "      A     B     C     D\n",
      "0  0.44  0.41  0.44  0.41\n",
      "1  0.46  0.47  0.46  0.47\n",
      "2  0.46  0.02  0.46  0.02\n",
      "3  0.85  0.82  0.85  0.82\n",
      "4  0.78  0.76  0.78  0.76\n",
      "5  0.99  1.12  0.99  1.12\n",
      "6  0.25  0.76  0.25  0.76\n"
     ]
    }
   ],
   "source": [
    "test_list = {'A': [0.44,0.46,0.46,0.85,0.78,0.99,0.25],\n",
    "             'B': [0.41,0.47,0.02,0.82,0.76, 1.12,0.76],\n",
    "            'C': [0.44,0.46,0.46,0.85,0.78,0.99,0.25],\n",
    "            'D': [0.41,0.47,0.02,0.82,0.76, 1.12,0.76]}\n",
    "test_df =pd.DataFrame(test_list)\n",
    "print (test_df)"
   ]
  },
  {
   "cell_type": "code",
   "execution_count": 3,
   "metadata": {},
   "outputs": [
    {
     "name": "stdout",
     "output_type": "stream",
     "text": [
      "a.strides (8, 56)\n",
      "a.strides (8, 56)\n",
      "\n",
      "\n",
      "s0 8 s1 56\n",
      "\n",
      "\n",
      "length 7 features 4\n",
      "\n",
      "\n",
      "[[[ 0.44  0.41  0.44  0.41]\n",
      "  [ 0.46  0.47  0.46  0.47]\n",
      "  [ 0.46  0.02  0.46  0.02]]\n",
      "\n",
      " [[ 0.46  0.47  0.46  0.47]\n",
      "  [ 0.46  0.02  0.46  0.02]\n",
      "  [ 0.85  0.82  0.85  0.82]]\n",
      "\n",
      " [[ 0.46  0.02  0.46  0.02]\n",
      "  [ 0.85  0.82  0.85  0.82]\n",
      "  [ 0.78  0.76  0.78  0.76]]\n",
      "\n",
      " [[ 0.85  0.82  0.85  0.82]\n",
      "  [ 0.78  0.76  0.78  0.76]\n",
      "  [ 0.99  1.12  0.99  1.12]]\n",
      "\n",
      " [[ 0.78  0.76  0.78  0.76]\n",
      "  [ 0.99  1.12  0.99  1.12]\n",
      "  [ 0.25  0.76  0.25  0.76]]]\n"
     ]
    }
   ],
   "source": [
    "print (get_sliding_window(test_df, 3))"
   ]
  },
  {
   "cell_type": "code",
   "execution_count": null,
   "metadata": {
    "collapsed": true
   },
   "outputs": [],
   "source": []
  }
 ],
 "metadata": {
  "kernelspec": {
   "display_name": "Python 3",
   "language": "python",
   "name": "python3"
  },
  "language_info": {
   "codemirror_mode": {
    "name": "ipython",
    "version": 3
   },
   "file_extension": ".py",
   "mimetype": "text/x-python",
   "name": "python",
   "nbconvert_exporter": "python",
   "pygments_lexer": "ipython3",
   "version": "3.6.3"
  }
 },
 "nbformat": 4,
 "nbformat_minor": 2
}

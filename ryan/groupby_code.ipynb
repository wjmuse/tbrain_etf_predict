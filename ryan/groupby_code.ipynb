{
 "cells": [
  {
   "cell_type": "code",
   "execution_count": 1,
   "metadata": {},
   "outputs": [],
   "source": [
    "%matplotlib inline\n",
    "\n",
    "import os\n",
    "import numpy as np\n",
    "import pandas as pd\n",
    "from collections import OrderedDict\n",
    "import datetime\n",
    "import time\n",
    "import csv\n",
    "import matplotlib.pyplot as plt\n",
    "from etf_tools import kd_rsv, ez_plot, candle_stick, rsi, ema, macd\n",
    "\n",
    "plt.style.use('ggplot')\n",
    "plt.ioff()"
   ]
  },
  {
   "cell_type": "code",
   "execution_count": 2,
   "metadata": {},
   "outputs": [],
   "source": [
    "src_dir = '../data/raw/'\n",
    "dest_dir = os.path.join(src_dir, 'groupbycode/all')\n",
    "csv_files = ['tetfp.csv', 'tsharep.csv']\n",
    "col_dtypes = OrderedDict(code=str, date=str, name=str, open=float, high=float, low=float, close=float, volume=int)\n"
   ]
  },
  {
   "cell_type": "code",
   "execution_count": 3,
   "metadata": {},
   "outputs": [
    {
     "name": "stdout",
     "output_type": "stream",
     "text": [
      "(19395, 8)\n"
     ]
    },
    {
     "data": {
      "text/html": [
       "<div>\n",
       "<style>\n",
       "    .dataframe thead tr:only-child th {\n",
       "        text-align: right;\n",
       "    }\n",
       "\n",
       "    .dataframe thead th {\n",
       "        text-align: left;\n",
       "    }\n",
       "\n",
       "    .dataframe tbody tr th {\n",
       "        vertical-align: top;\n",
       "    }\n",
       "</style>\n",
       "<table border=\"1\" class=\"dataframe\">\n",
       "  <thead>\n",
       "    <tr style=\"text-align: right;\">\n",
       "      <th></th>\n",
       "      <th>code</th>\n",
       "      <th>date</th>\n",
       "      <th>name</th>\n",
       "      <th>open</th>\n",
       "      <th>high</th>\n",
       "      <th>low</th>\n",
       "      <th>close</th>\n",
       "      <th>volume</th>\n",
       "    </tr>\n",
       "  </thead>\n",
       "  <tbody>\n",
       "    <tr>\n",
       "      <th>0</th>\n",
       "      <td>0050</td>\n",
       "      <td>20130102</td>\n",
       "      <td>元大台灣50</td>\n",
       "      <td>54.00</td>\n",
       "      <td>54.65</td>\n",
       "      <td>53.90</td>\n",
       "      <td>54.40</td>\n",
       "      <td>16487</td>\n",
       "    </tr>\n",
       "    <tr>\n",
       "      <th>1</th>\n",
       "      <td>0050</td>\n",
       "      <td>20130103</td>\n",
       "      <td>元大台灣50</td>\n",
       "      <td>54.90</td>\n",
       "      <td>55.05</td>\n",
       "      <td>54.65</td>\n",
       "      <td>54.85</td>\n",
       "      <td>29020</td>\n",
       "    </tr>\n",
       "    <tr>\n",
       "      <th>2</th>\n",
       "      <td>0050</td>\n",
       "      <td>20130104</td>\n",
       "      <td>元大台灣50</td>\n",
       "      <td>54.85</td>\n",
       "      <td>54.85</td>\n",
       "      <td>54.40</td>\n",
       "      <td>54.50</td>\n",
       "      <td>9837</td>\n",
       "    </tr>\n",
       "    <tr>\n",
       "      <th>3</th>\n",
       "      <td>0050</td>\n",
       "      <td>20130107</td>\n",
       "      <td>元大台灣50</td>\n",
       "      <td>54.55</td>\n",
       "      <td>54.55</td>\n",
       "      <td>53.90</td>\n",
       "      <td>54.25</td>\n",
       "      <td>8910</td>\n",
       "    </tr>\n",
       "    <tr>\n",
       "      <th>4</th>\n",
       "      <td>0050</td>\n",
       "      <td>20130108</td>\n",
       "      <td>元大台灣50</td>\n",
       "      <td>54.00</td>\n",
       "      <td>54.20</td>\n",
       "      <td>53.65</td>\n",
       "      <td>53.90</td>\n",
       "      <td>12507</td>\n",
       "    </tr>\n",
       "  </tbody>\n",
       "</table>\n",
       "</div>"
      ],
      "text/plain": [
       "   code      date    name   open   high    low  close  volume\n",
       "0  0050  20130102  元大台灣50  54.00  54.65  53.90  54.40   16487\n",
       "1  0050  20130103  元大台灣50  54.90  55.05  54.65  54.85   29020\n",
       "2  0050  20130104  元大台灣50  54.85  54.85  54.40  54.50    9837\n",
       "3  0050  20130107  元大台灣50  54.55  54.55  53.90  54.25    8910\n",
       "4  0050  20130108  元大台灣50  54.00  54.20  53.65  53.90   12507"
      ]
     },
     "metadata": {},
     "output_type": "display_data"
    },
    {
     "name": "stdout",
     "output_type": "stream",
     "text": [
      "(2042069, 8)\n"
     ]
    },
    {
     "data": {
      "text/html": [
       "<div>\n",
       "<style>\n",
       "    .dataframe thead tr:only-child th {\n",
       "        text-align: right;\n",
       "    }\n",
       "\n",
       "    .dataframe thead th {\n",
       "        text-align: left;\n",
       "    }\n",
       "\n",
       "    .dataframe tbody tr th {\n",
       "        vertical-align: top;\n",
       "    }\n",
       "</style>\n",
       "<table border=\"1\" class=\"dataframe\">\n",
       "  <thead>\n",
       "    <tr style=\"text-align: right;\">\n",
       "      <th></th>\n",
       "      <th>code</th>\n",
       "      <th>date</th>\n",
       "      <th>name</th>\n",
       "      <th>open</th>\n",
       "      <th>high</th>\n",
       "      <th>low</th>\n",
       "      <th>close</th>\n",
       "      <th>volume</th>\n",
       "    </tr>\n",
       "  </thead>\n",
       "  <tbody>\n",
       "    <tr>\n",
       "      <th>2042064</th>\n",
       "      <td>9962</td>\n",
       "      <td>20180521</td>\n",
       "      <td>有益</td>\n",
       "      <td>11.10</td>\n",
       "      <td>11.10</td>\n",
       "      <td>11.0</td>\n",
       "      <td>11.05</td>\n",
       "      <td>89</td>\n",
       "    </tr>\n",
       "    <tr>\n",
       "      <th>2042065</th>\n",
       "      <td>9962</td>\n",
       "      <td>20180522</td>\n",
       "      <td>有益</td>\n",
       "      <td>11.15</td>\n",
       "      <td>11.15</td>\n",
       "      <td>11.0</td>\n",
       "      <td>11.05</td>\n",
       "      <td>45</td>\n",
       "    </tr>\n",
       "    <tr>\n",
       "      <th>2042066</th>\n",
       "      <td>9962</td>\n",
       "      <td>20180523</td>\n",
       "      <td>有益</td>\n",
       "      <td>11.05</td>\n",
       "      <td>11.05</td>\n",
       "      <td>11.0</td>\n",
       "      <td>11.00</td>\n",
       "      <td>29</td>\n",
       "    </tr>\n",
       "    <tr>\n",
       "      <th>2042067</th>\n",
       "      <td>9962</td>\n",
       "      <td>20180524</td>\n",
       "      <td>有益</td>\n",
       "      <td>11.05</td>\n",
       "      <td>11.05</td>\n",
       "      <td>11.0</td>\n",
       "      <td>11.05</td>\n",
       "      <td>25</td>\n",
       "    </tr>\n",
       "    <tr>\n",
       "      <th>2042068</th>\n",
       "      <td>9962</td>\n",
       "      <td>20180525</td>\n",
       "      <td>有益</td>\n",
       "      <td>11.05</td>\n",
       "      <td>11.05</td>\n",
       "      <td>11.0</td>\n",
       "      <td>11.05</td>\n",
       "      <td>21</td>\n",
       "    </tr>\n",
       "  </tbody>\n",
       "</table>\n",
       "</div>"
      ],
      "text/plain": [
       "         code      date name   open   high   low  close  volume\n",
       "2042064  9962  20180521   有益  11.10  11.10  11.0  11.05      89\n",
       "2042065  9962  20180522   有益  11.15  11.15  11.0  11.05      45\n",
       "2042066  9962  20180523   有益  11.05  11.05  11.0  11.00      29\n",
       "2042067  9962  20180524   有益  11.05  11.05  11.0  11.05      25\n",
       "2042068  9962  20180525   有益  11.05  11.05  11.0  11.05      21"
      ]
     },
     "metadata": {},
     "output_type": "display_data"
    }
   ],
   "source": [
    "\n",
    "tetfp = pd.read_csv(os.path.join(src_dir, 'tetfp.csv'), names=col_dtypes.keys(), dtype=col_dtypes, skiprows=1)\n",
    "tsharep = pd.read_csv(os.path.join(src_dir, 'tsharep.csv'), names=col_dtypes.keys(), dtype=col_dtypes, skiprows=1)\n",
    "\n",
    "print(tetfp.shape)\n",
    "display(tetfp.head())\n",
    "print(tsharep.shape)\n",
    "display(tsharep.tail())"
   ]
  },
  {
   "cell_type": "code",
   "execution_count": 4,
   "metadata": {},
   "outputs": [],
   "source": [
    "pd.Series(tetfp.code.unique()).to_csv('ETF_CODE', index=False)\n",
    "pd.Series(tetfp.date.unique()).to_csv('ETF_DATE', index=False)"
   ]
  },
  {
   "cell_type": "code",
   "execution_count": 5,
   "metadata": {},
   "outputs": [],
   "source": [
    "stock_all = pd.concat([tetfp, tsharep], axis=0).reset_index(drop=True)"
   ]
  },
  {
   "cell_type": "code",
   "execution_count": 6,
   "metadata": {},
   "outputs": [
    {
     "name": "stdout",
     "output_type": "stream",
     "text": [
      "(2061464, 8)\n"
     ]
    },
    {
     "data": {
      "text/html": [
       "<div>\n",
       "<style>\n",
       "    .dataframe thead tr:only-child th {\n",
       "        text-align: right;\n",
       "    }\n",
       "\n",
       "    .dataframe thead th {\n",
       "        text-align: left;\n",
       "    }\n",
       "\n",
       "    .dataframe tbody tr th {\n",
       "        vertical-align: top;\n",
       "    }\n",
       "</style>\n",
       "<table border=\"1\" class=\"dataframe\">\n",
       "  <thead>\n",
       "    <tr style=\"text-align: right;\">\n",
       "      <th></th>\n",
       "      <th>code</th>\n",
       "      <th>date</th>\n",
       "      <th>name</th>\n",
       "      <th>open</th>\n",
       "      <th>high</th>\n",
       "      <th>low</th>\n",
       "      <th>close</th>\n",
       "      <th>volume</th>\n",
       "    </tr>\n",
       "  </thead>\n",
       "  <tbody>\n",
       "    <tr>\n",
       "      <th>2061459</th>\n",
       "      <td>9962</td>\n",
       "      <td>20180521</td>\n",
       "      <td>有益</td>\n",
       "      <td>11.10</td>\n",
       "      <td>11.10</td>\n",
       "      <td>11.0</td>\n",
       "      <td>11.05</td>\n",
       "      <td>89</td>\n",
       "    </tr>\n",
       "    <tr>\n",
       "      <th>2061460</th>\n",
       "      <td>9962</td>\n",
       "      <td>20180522</td>\n",
       "      <td>有益</td>\n",
       "      <td>11.15</td>\n",
       "      <td>11.15</td>\n",
       "      <td>11.0</td>\n",
       "      <td>11.05</td>\n",
       "      <td>45</td>\n",
       "    </tr>\n",
       "    <tr>\n",
       "      <th>2061461</th>\n",
       "      <td>9962</td>\n",
       "      <td>20180523</td>\n",
       "      <td>有益</td>\n",
       "      <td>11.05</td>\n",
       "      <td>11.05</td>\n",
       "      <td>11.0</td>\n",
       "      <td>11.00</td>\n",
       "      <td>29</td>\n",
       "    </tr>\n",
       "    <tr>\n",
       "      <th>2061462</th>\n",
       "      <td>9962</td>\n",
       "      <td>20180524</td>\n",
       "      <td>有益</td>\n",
       "      <td>11.05</td>\n",
       "      <td>11.05</td>\n",
       "      <td>11.0</td>\n",
       "      <td>11.05</td>\n",
       "      <td>25</td>\n",
       "    </tr>\n",
       "    <tr>\n",
       "      <th>2061463</th>\n",
       "      <td>9962</td>\n",
       "      <td>20180525</td>\n",
       "      <td>有益</td>\n",
       "      <td>11.05</td>\n",
       "      <td>11.05</td>\n",
       "      <td>11.0</td>\n",
       "      <td>11.05</td>\n",
       "      <td>21</td>\n",
       "    </tr>\n",
       "  </tbody>\n",
       "</table>\n",
       "</div>"
      ],
      "text/plain": [
       "         code      date name   open   high   low  close  volume\n",
       "2061459  9962  20180521   有益  11.10  11.10  11.0  11.05      89\n",
       "2061460  9962  20180522   有益  11.15  11.15  11.0  11.05      45\n",
       "2061461  9962  20180523   有益  11.05  11.05  11.0  11.00      29\n",
       "2061462  9962  20180524   有益  11.05  11.05  11.0  11.05      25\n",
       "2061463  9962  20180525   有益  11.05  11.05  11.0  11.05      21"
      ]
     },
     "metadata": {},
     "output_type": "display_data"
    }
   ],
   "source": [
    "print(stock_all.shape)\n",
    "display(stock_all.tail())"
   ]
  },
  {
   "cell_type": "code",
   "execution_count": 7,
   "metadata": {},
   "outputs": [],
   "source": [
    "weekday = stock_all.date.apply(lambda date: datetime.datetime.strptime(date, '%Y%m%d').weekday() + 1)"
   ]
  },
  {
   "cell_type": "code",
   "execution_count": 8,
   "metadata": {},
   "outputs": [
    {
     "name": "stdout",
     "output_type": "stream",
     "text": [
      "(2061464,)\n"
     ]
    },
    {
     "data": {
      "text/plain": [
       "0    3\n",
       "1    4\n",
       "2    5\n",
       "3    1\n",
       "4    2\n",
       "Name: date, dtype: int64"
      ]
     },
     "metadata": {},
     "output_type": "display_data"
    },
    {
     "data": {
      "text/plain": [
       "2061459    1\n",
       "2061460    2\n",
       "2061461    3\n",
       "2061462    4\n",
       "2061463    5\n",
       "Name: date, dtype: int64"
      ]
     },
     "metadata": {},
     "output_type": "display_data"
    }
   ],
   "source": [
    "print(weekday.shape)\n",
    "display(weekday.head())\n",
    "display(weekday.tail())"
   ]
  },
  {
   "cell_type": "code",
   "execution_count": 9,
   "metadata": {},
   "outputs": [],
   "source": [
    "weekday.name = 'weekday'"
   ]
  },
  {
   "cell_type": "code",
   "execution_count": 10,
   "metadata": {},
   "outputs": [
    {
     "data": {
      "text/html": [
       "<div>\n",
       "<style>\n",
       "    .dataframe thead tr:only-child th {\n",
       "        text-align: right;\n",
       "    }\n",
       "\n",
       "    .dataframe thead th {\n",
       "        text-align: left;\n",
       "    }\n",
       "\n",
       "    .dataframe tbody tr th {\n",
       "        vertical-align: top;\n",
       "    }\n",
       "</style>\n",
       "<table border=\"1\" class=\"dataframe\">\n",
       "  <thead>\n",
       "    <tr style=\"text-align: right;\">\n",
       "      <th></th>\n",
       "      <th>code</th>\n",
       "      <th>date</th>\n",
       "      <th>name</th>\n",
       "      <th>open</th>\n",
       "      <th>high</th>\n",
       "      <th>low</th>\n",
       "      <th>close</th>\n",
       "      <th>volume</th>\n",
       "      <th>weekday</th>\n",
       "    </tr>\n",
       "  </thead>\n",
       "  <tbody>\n",
       "    <tr>\n",
       "      <th>2061459</th>\n",
       "      <td>9962</td>\n",
       "      <td>20180521</td>\n",
       "      <td>有益</td>\n",
       "      <td>11.10</td>\n",
       "      <td>11.10</td>\n",
       "      <td>11.0</td>\n",
       "      <td>11.05</td>\n",
       "      <td>89</td>\n",
       "      <td>1</td>\n",
       "    </tr>\n",
       "    <tr>\n",
       "      <th>2061460</th>\n",
       "      <td>9962</td>\n",
       "      <td>20180522</td>\n",
       "      <td>有益</td>\n",
       "      <td>11.15</td>\n",
       "      <td>11.15</td>\n",
       "      <td>11.0</td>\n",
       "      <td>11.05</td>\n",
       "      <td>45</td>\n",
       "      <td>2</td>\n",
       "    </tr>\n",
       "    <tr>\n",
       "      <th>2061461</th>\n",
       "      <td>9962</td>\n",
       "      <td>20180523</td>\n",
       "      <td>有益</td>\n",
       "      <td>11.05</td>\n",
       "      <td>11.05</td>\n",
       "      <td>11.0</td>\n",
       "      <td>11.00</td>\n",
       "      <td>29</td>\n",
       "      <td>3</td>\n",
       "    </tr>\n",
       "    <tr>\n",
       "      <th>2061462</th>\n",
       "      <td>9962</td>\n",
       "      <td>20180524</td>\n",
       "      <td>有益</td>\n",
       "      <td>11.05</td>\n",
       "      <td>11.05</td>\n",
       "      <td>11.0</td>\n",
       "      <td>11.05</td>\n",
       "      <td>25</td>\n",
       "      <td>4</td>\n",
       "    </tr>\n",
       "    <tr>\n",
       "      <th>2061463</th>\n",
       "      <td>9962</td>\n",
       "      <td>20180525</td>\n",
       "      <td>有益</td>\n",
       "      <td>11.05</td>\n",
       "      <td>11.05</td>\n",
       "      <td>11.0</td>\n",
       "      <td>11.05</td>\n",
       "      <td>21</td>\n",
       "      <td>5</td>\n",
       "    </tr>\n",
       "  </tbody>\n",
       "</table>\n",
       "</div>"
      ],
      "text/plain": [
       "         code      date name   open   high   low  close  volume  weekday\n",
       "2061459  9962  20180521   有益  11.10  11.10  11.0  11.05      89        1\n",
       "2061460  9962  20180522   有益  11.15  11.15  11.0  11.05      45        2\n",
       "2061461  9962  20180523   有益  11.05  11.05  11.0  11.00      29        3\n",
       "2061462  9962  20180524   有益  11.05  11.05  11.0  11.05      25        4\n",
       "2061463  9962  20180525   有益  11.05  11.05  11.0  11.05      21        5"
      ]
     },
     "metadata": {},
     "output_type": "display_data"
    }
   ],
   "source": [
    "stock_all_add_weekday = pd.concat([stock_all, weekday], axis=1)\n",
    "display(stock_all_add_weekday.tail())"
   ]
  },
  {
   "cell_type": "code",
   "execution_count": 11,
   "metadata": {},
   "outputs": [
    {
     "name": "stdout",
     "output_type": "stream",
     "text": [
      "15.766 sec.\n",
      "CPU times: user 10.5 s, sys: 334 ms, total: 10.9 s\n",
      "Wall time: 15.8 s\n"
     ]
    }
   ],
   "source": [
    "%%time\n",
    "tic = time.time()\n",
    "\n",
    "_ = stock_all_add_weekday.groupby(by='code').apply(\n",
    "    lambda df: df.sort_values('date').to_csv(os.path.join(dest_dir, f'{df.name}.csv'),\n",
    "                                             index=False, quoting=csv.QUOTE_ALL, encoding='utf-8')\n",
    ")\n",
    "\n",
    "toc = time.time()\n",
    "\n",
    "print(f'{toc - tic:.3f} sec.')"
   ]
  },
  {
   "cell_type": "code",
   "execution_count": 47,
   "metadata": {},
   "outputs": [],
   "source": []
  },
  {
   "cell_type": "code",
   "execution_count": null,
   "metadata": {},
   "outputs": [],
   "source": []
  }
 ],
 "metadata": {
  "kernelspec": {
   "display_name": "ryan-py3",
   "language": "python",
   "name": "ryan-py3"
  },
  "language_info": {
   "codemirror_mode": {
    "name": "ipython",
    "version": 3
   },
   "file_extension": ".py",
   "mimetype": "text/x-python",
   "name": "python",
   "nbconvert_exporter": "python",
   "pygments_lexer": "ipython3",
   "version": "3.6.2"
  }
 },
 "nbformat": 4,
 "nbformat_minor": 2
}

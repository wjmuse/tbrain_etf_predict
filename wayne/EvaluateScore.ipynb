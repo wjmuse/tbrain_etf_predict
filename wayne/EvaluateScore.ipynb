{
 "cells": [
  {
   "cell_type": "markdown",
   "metadata": {},
   "source": [
    "## 算分公式開發過程\n",
    "\n",
    "### submit example\n",
    "\n",
    "```\n",
    "ETFid,Mon_ud,Mon_cprice,Tue_ud,Tue_cprice,Wed_ud,Wed_cprice,Thu_ud,Thu_cprice,Fri_ud,Fri_cprice\n",
    "0050,1,87.15,1,88.05,-1,88.00,-1,87.25,1,87.45\n",
    "0051,1,32.49,1,33,1,32.72,1,32.75,-1,32.44\n",
    "0052,-1,57.75,1,58.5,1,59.8,-1,59,-1,57.9\n",
    "0053,1,37.38,1,37.92,-1,37.44,-1,37.2,1,37.44\n",
    "0054,1,24.63,1,24.94,-1,24.05,1,24.63,1,24.7\n",
    "0055,-1,17.1,0,17.1,-1,17,0,17,1,17.02\n",
    "0056,-1,26,1,26.25,-1,26.17,1,26.32,1,26.45\n",
    "0057,1,52.4,1,52.9,-1,52.6,1,52.9,-1,52.05\n",
    "0058,1,46.56,1,47.02,1,47.27,0,47.27,1,47.37\n",
    "0059,-1,41.9,1,42.07,-1,41.44,0,41.44,1,41.9\n",
    "006201,-1,14.98,1,15.27,-1,15.00,-1,14.97,-1,14.90\n",
    "006203,1,40.24,1,40.84,-1,40.27,1,40.42,-1,40.40\n",
    "006204,1,55.35,1,55.70,-1,55.35,1,55.40,1,55.45\n",
    "006208,1,49.75,1,49.8,1,49.85,1,49.11,-1,49.35\n",
    "00690,1,22.48,1,22.44,-1,22.24,1,22.28,-1,22.42\n",
    "00692,1,22.14,1,22.23,-1,22.04,1,22.12,1,22.19\n",
    "00701,1,21.46,1,21.5,-1,21.38,1,21.41,0,21.41\n",
    "00713,-1,31.22,-1,31.1,-1,31.07,1,31.14,-1,31.12\n",
    "```"
   ]
  },
  {
   "cell_type": "code",
   "execution_count": 1,
   "metadata": {},
   "outputs": [],
   "source": [
    "import csv\n",
    "import pandas as pd\n",
    "import numpy as np\n",
    "from collections import OrderedDict"
   ]
  },
  {
   "cell_type": "markdown",
   "metadata": {},
   "source": [
    "### etf ID list"
   ]
  },
  {
   "cell_type": "code",
   "execution_count": 2,
   "metadata": {},
   "outputs": [],
   "source": [
    "etfid_list = ['0051', '0050', '0052', '0053', '0054', '0055', '0056', '0057', \n",
    "              '0058', '0059', '006201', '006203', '006204', '006208', '00690', \n",
    "              '00692', '00701', '00713']"
   ]
  },
  {
   "cell_type": "code",
   "execution_count": 24,
   "metadata": {},
   "outputs": [],
   "source": [
    "week_colunm_list = ['Mon_ud', 'Mon_cprice', 'Tue_ud', 'Tue_cprice', 'Wed_ud',\n",
    " 'Wed_cprice', 'Thu_ud', 'Thu_cprice', 'Fri_ud', 'Fri_cprice']"
   ]
  },
  {
   "cell_type": "code",
   "execution_count": 39,
   "metadata": {},
   "outputs": [],
   "source": [
    "ETF_NUM = len(etfid_list)\n",
    "SUBMIT_COLNUM = len(week_colunm_list) + 1"
   ]
  },
  {
   "cell_type": "markdown",
   "metadata": {},
   "source": [
    "### 計算一週單一個股的預測分數 (暫時不用)"
   ]
  },
  {
   "cell_type": "code",
   "execution_count": 5,
   "metadata": {},
   "outputs": [],
   "source": [
    "### assume this are 0050 real values in a week ###\n",
    "actual_0050 = OrderedDict({'20180122': (1, 87.15), '20180123': (1, 88.05), '20180124': (-1, 88.00), \n",
    "                '20180125': (-1, 87.25), '20180126': (1, 87.45)})\n",
    "\n",
    "### assume this are 0050 predict values in a week ###\n",
    "predict_0050 = OrderedDict({'20180122': (1, 87.45), '20180123': (1, 88.05), '20180124': (1, 88.3), \n",
    "                '20180125': (-1, 87.25), '20180126': (1, 88.7)})"
   ]
  },
  {
   "cell_type": "code",
   "execution_count": 20,
   "metadata": {},
   "outputs": [
    {
     "data": {
      "text/plain": [
       "0.8973428915367424"
      ]
     },
     "execution_count": 20,
     "metadata": {},
     "output_type": "execute_result"
    }
   ],
   "source": [
    "def evaluate_temp(predict, actual):\n",
    "    \"\"\" description \n",
    "      - 假設一週必定是 5 天，如果當週有放假日，可先在當天塞假資料 (ex. 都是 1 之類的)\n",
    "      - score 的滿分是 1，但可能負無限大。如程式日期或天數發生錯誤，回傳 1000 表示 error\n",
    "    \"\"\"\n",
    "    wrighting = [0.1, 0.15, 0.2, 0.25, 0.3]\n",
    "    score = 0\n",
    "    if predict.keys() == actual.keys() and len(predict) == 5:\n",
    "        for i, j in enumerate(actual):\n",
    "            day_score = 0.0\n",
    "            if predict[j][0] == actual[j][0]:\n",
    "                day_score += 0.5\n",
    "            \n",
    "            day_score += (((actual[j][1] - abs(predict[j][1] - actual[j][1]))/actual[j][1])*0.5) \n",
    "            score += day_score * wrighting[i]\n",
    "    else:\n",
    "        score = 1000\n",
    "        \n",
    "    return score\n",
    "    \n",
    "evaluate_temp(predict_0050, actual_0050)"
   ]
  },
  {
   "cell_type": "markdown",
   "metadata": {},
   "source": [
    "### 讀取官網範例 submit 格式"
   ]
  },
  {
   "cell_type": "code",
   "execution_count": 7,
   "metadata": {},
   "outputs": [],
   "source": [
    "answer = pd.read_csv('../data/submit_example.csv', dtype={'ETFid' : np.str})"
   ]
  },
  {
   "cell_type": "code",
   "execution_count": 8,
   "metadata": {},
   "outputs": [
    {
     "data": {
      "text/plain": [
       "['ETFid',\n",
       " 'Mon_ud',\n",
       " 'Mon_cprice',\n",
       " 'Tue_ud',\n",
       " 'Tue_cprice',\n",
       " 'Wed_ud',\n",
       " 'Wed_cprice',\n",
       " 'Thu_ud',\n",
       " 'Thu_cprice',\n",
       " 'Fri_ud',\n",
       " 'Fri_cprice']"
      ]
     },
     "execution_count": 8,
     "metadata": {},
     "output_type": "execute_result"
    }
   ],
   "source": [
    "list(answer.columns)"
   ]
  },
  {
   "cell_type": "code",
   "execution_count": 9,
   "metadata": {},
   "outputs": [],
   "source": [
    "predict = pd.read_csv('../data/submit_example.csv', dtype={'ETFid' : np.str})\n",
    "answer = pd.read_csv('../data/answer_example.csv', dtype={'ETFid' : np.str})"
   ]
  },
  {
   "cell_type": "code",
   "execution_count": 18,
   "metadata": {},
   "outputs": [],
   "source": [
    "test1 = OrderedDict([('Mon_ud', 1),\n",
    "             ('Mon_cprice', 87.150000000000006),\n",
    "             ('Tue_ud', 1),\n",
    "             ('Tue_cprice', 88.049999999999997),\n",
    "             ('Wed_ud', -1),\n",
    "             ('Wed_cprice', 88.0),\n",
    "             ('Thu_ud', -1),\n",
    "             ('Thu_cprice', 87.25),\n",
    "             ('Fri_ud', 1),\n",
    "             ('Fri_cprice', 87.450000000000003)])\n",
    "\n",
    "test2 = OrderedDict([('Mon_ud', 1),\n",
    "             ('Mon_cprice', 32.490000000000002),\n",
    "             ('Tue_ud', 1),\n",
    "             ('Tue_cprice', 33.0),\n",
    "             ('Wed_ud', 1),\n",
    "             ('Wed_cprice', 32.719999999999999),\n",
    "             ('Thu_ud', 1),\n",
    "             ('Thu_cprice', 32.75),\n",
    "             ('Fri_ud', -1),\n",
    "             ('Fri_cprice', 32.439999999999998)])"
   ]
  },
  {
   "cell_type": "code",
   "execution_count": 63,
   "metadata": {},
   "outputs": [
    {
     "data": {
      "text/plain": [
       "-0.21555764789856463"
      ]
     },
     "execution_count": 63,
     "metadata": {},
     "output_type": "execute_result"
    }
   ],
   "source": [
    "def evaluate(predict: OrderedDict, actual: OrderedDict) -> float:\n",
    "    wrighting = [0.1, 0.15, 0.2, 0.25, 0.3]\n",
    "    prefix = ['Mon','Tue','Wed','Thu','Fri']\n",
    "    score = 0\n",
    "    \n",
    "    if set(predict.keys()) != set(week_colunm_list) or set(actual.keys()) != set(week_colunm_list):\n",
    "        raise Exception('Wrong columns for the data to be evaluated.')\n",
    "    \n",
    "    for _day in prefix:\n",
    "        day_score = 0.0\n",
    "        if predict[_day + '_ud'] == actual[_day + '_ud']:\n",
    "            day_score += 0.5\n",
    "            \n",
    "        day_score += (((actual[_day + '_cprice'] - abs(predict[_day + '_cprice'] - actual[_day + '_cprice']))/actual[_day + '_cprice'])*0.5) \n",
    "        score += day_score * wrighting[prefix.index(_day)]\n",
    "        \n",
    "    return score\n",
    "    \n",
    "evaluate(test1, test2)"
   ]
  },
  {
   "cell_type": "code",
   "execution_count": 64,
   "metadata": {},
   "outputs": [],
   "source": [
    "def evaluate_all(predict: pd.DataFrame, answer: pd.DataFrame) -> list:\n",
    "    predict_dict = {}\n",
    "    answer_dict = {}\n",
    "    result = []\n",
    "    \n",
    "    ## check result format in a week\n",
    "    if predict.shape != (ETF_NUM, SUBMIT_COLNUM) or answer.shape != (ETF_NUM, SUBMIT_COLNUM):\n",
    "        raise Exception('Wrong dataframe size for a week.')\n",
    "        \n",
    "    for row_index in range(predict.shape[0]):\n",
    "        this_predict = OrderedDict(predict.iloc[row_index])\n",
    "        this_answer = OrderedDict(answer.iloc[row_index])\n",
    "        ETFid = this_predict.pop('ETFid')\n",
    "        predict_dict[ETFid] = this_predict\n",
    "        \n",
    "        ETFid = this_answer.pop('ETFid')\n",
    "        answer_dict[ETFid] = this_answer\n",
    "    \n",
    "    if set(predict_dict.keys()) != set(etfid_list) or set(answer_dict.keys()) != set(etfid_list):\n",
    "        raise Exception('Wrong ETF id list.')\n",
    "    \n",
    "    for ETFid in etfid_list:\n",
    "        this_score = evaluate(predict_dict[ETFid], answer_dict[ETFid])\n",
    "        result.append({'code': ETFid, 'score': this_score})  \n",
    "        \n",
    "    return result"
   ]
  },
  {
   "cell_type": "code",
   "execution_count": 65,
   "metadata": {},
   "outputs": [
    {
     "data": {
      "text/plain": [
       "[{'code': '0051', 'score': 1.0},\n",
       " {'code': '0050', 'score': 1.0},\n",
       " {'code': '0052', 'score': 1.0},\n",
       " {'code': '0053', 'score': 1.0},\n",
       " {'code': '0054', 'score': 1.0},\n",
       " {'code': '0055', 'score': 1.0},\n",
       " {'code': '0056', 'score': 0.99857142857142867},\n",
       " {'code': '0057', 'score': 0.99904942965779475},\n",
       " {'code': '0058', 'score': 1.0},\n",
       " {'code': '0059', 'score': 1.0},\n",
       " {'code': '006201', 'score': 1.0},\n",
       " {'code': '006203', 'score': 1.0},\n",
       " {'code': '006204', 'score': 1.0},\n",
       " {'code': '006208', 'score': 1.0},\n",
       " {'code': '00690', 'score': 1.0},\n",
       " {'code': '00692', 'score': 1.0},\n",
       " {'code': '00701', 'score': 1.0},\n",
       " {'code': '00713', 'score': 0.84749357326478147}]"
      ]
     },
     "execution_count": 65,
     "metadata": {},
     "output_type": "execute_result"
    }
   ],
   "source": [
    "evaluate_all(predict, answer)"
   ]
  },
  {
   "cell_type": "code",
   "execution_count": null,
   "metadata": {},
   "outputs": [],
   "source": []
  }
 ],
 "metadata": {
  "kernelspec": {
   "display_name": "wayne_kernel",
   "language": "python",
   "name": "wayne_kernel"
  },
  "language_info": {
   "codemirror_mode": {
    "name": "ipython",
    "version": 3
   },
   "file_extension": ".py",
   "mimetype": "text/x-python",
   "name": "python",
   "nbconvert_exporter": "python",
   "pygments_lexer": "ipython3",
   "version": "3.6.2"
  }
 },
 "nbformat": 4,
 "nbformat_minor": 2
}
